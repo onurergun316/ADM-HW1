{
 "cells": [
  {
   "cell_type": "markdown",
   "id": "439c5f97",
   "metadata": {},
   "source": [
    "# Say \"Hello, World!\" With Python"
   ]
  },
  {
   "cell_type": "code",
   "execution_count": null,
   "id": "b9b5a750",
   "metadata": {},
   "outputs": [],
   "source": [
    "if __name__ == '__main__':\n",
    "    print (\"Hello, World!\")"
   ]
  },
  {
   "cell_type": "markdown",
   "id": "34540f8b",
   "metadata": {},
   "source": [
    "# Python If-Else"
   ]
  },
  {
   "cell_type": "code",
   "execution_count": null,
   "id": "27061165",
   "metadata": {},
   "outputs": [],
   "source": [
    "\n",
    "import math\n",
    "import os\n",
    "import random\n",
    "import re\n",
    "import sys\n",
    "\n",
    "\n",
    "\n",
    "if __name__ == '__main__':\n",
    "    n = int(raw_input().strip())\n",
    "    if(n%2!=0):\n",
    "        print(\"Weird\")\n",
    "    else:\n",
    "        if(n>=2 and n<=5):\n",
    "            print(\"Not Weird\")\n",
    "        elif(n>=6 and n<=20):\n",
    "            print(\"Weird\")\n",
    "        elif(n>20):\n",
    "            print(\"Not Weird\")\n",
    "            \n",
    "\n"
   ]
  },
  {
   "cell_type": "markdown",
   "id": "dda8b54b",
   "metadata": {},
   "source": [
    "# Arithmetic Operators\n"
   ]
  },
  {
   "cell_type": "code",
   "execution_count": null,
   "id": "9b7aef09",
   "metadata": {},
   "outputs": [],
   "source": [
    "if __name__ == '__main__':\n",
    "    a = int(raw_input())\n",
    "    b = int(raw_input())\n",
    "    print(a+b)\n",
    "    print(a-b)\n",
    "    print(a*b)\n",
    "\n"
   ]
  },
  {
   "cell_type": "markdown",
   "id": "b017d5c7",
   "metadata": {},
   "source": [
    "# Python: Division\n"
   ]
  },
  {
   "cell_type": "code",
   "execution_count": null,
   "id": "3f9b1348",
   "metadata": {},
   "outputs": [],
   "source": [
    "from __future__ import division\n",
    "\n",
    "if __name__ == '__main__':\n",
    "    a = int(raw_input())\n",
    "    b = int(raw_input())\n",
    "\n",
    "print(a//b)\n",
    "print(a/b)\n",
    "\n"
   ]
  },
  {
   "cell_type": "markdown",
   "id": "8f4e5ec8",
   "metadata": {},
   "source": [
    "# Loops\n"
   ]
  },
  {
   "cell_type": "code",
   "execution_count": null,
   "id": "7ff8046b",
   "metadata": {},
   "outputs": [],
   "source": [
    "if __name__ == '__main__':\n",
    "    n = int(raw_input())\n",
    "    for i in range(0,n):\n",
    "        print(i*i)"
   ]
  },
  {
   "cell_type": "markdown",
   "id": "27814249",
   "metadata": {},
   "source": [
    "# Write a function\n"
   ]
  },
  {
   "cell_type": "code",
   "execution_count": null,
   "id": "26d5bcc5",
   "metadata": {},
   "outputs": [],
   "source": [
    "def is_leap(year):\n",
    "    leap = False\n",
    "      # Write your logic here\n",
    "    if(year % 400 == 0):\n",
    "        return True\n",
    "    if(year % 100 == 0):\n",
    "        return False\n",
    "    if(year % 4 == 0):\n",
    "        return True\n",
    "    \n",
    "    return leap\n",
    "\n",
    "\n"
   ]
  },
  {
   "cell_type": "markdown",
   "id": "70fa58a6",
   "metadata": {},
   "source": [
    "# Print Function"
   ]
  },
  {
   "cell_type": "code",
   "execution_count": null,
   "id": "d827140c",
   "metadata": {},
   "outputs": [],
   "source": [
    "from __future__ import print_function\n",
    "\n",
    "if __name__ == '__main__':\n",
    "    n = int(raw_input())\n",
    "    for i in range(n):\n",
    "        print(i+1, end=\"\")"
   ]
  },
  {
   "cell_type": "markdown",
   "id": "1b4ff08f",
   "metadata": {},
   "source": [
    "# List Comprehensions"
   ]
  },
  {
   "cell_type": "code",
   "execution_count": null,
   "id": "f64471ea",
   "metadata": {},
   "outputs": [],
   "source": [
    "if __name__ == '__main__':\n",
    "    x = int(raw_input())\n",
    "    y = int(raw_input())\n",
    "    z = int(raw_input())\n",
    "    n = int(raw_input())\n",
    "    cuboid_list=[[i,j,k] for i in range(x+1) for j in range(y+1) \n",
    "    for k in range(z+1) if i+j+k !=n]\n",
    "    print(cuboid_list)"
   ]
  },
  {
   "cell_type": "markdown",
   "id": "1a78a8fa",
   "metadata": {},
   "source": [
    "# Find the Runner-Up Score!\n"
   ]
  },
  {
   "cell_type": "code",
   "execution_count": null,
   "id": "32ccd4c2",
   "metadata": {},
   "outputs": [],
   "source": [
    "if __name__ == '__main__':\n",
    "    n = int(raw_input())\n",
    "    arr = map(int, raw_input().split())\n",
    "    runnerUp = [x for x in arr if x!=max(arr)]\n",
    "    print(max(runnerUp))\n",
    "\n"
   ]
  },
  {
   "cell_type": "markdown",
   "id": "f6964ec2",
   "metadata": {},
   "source": [
    "# Nested Lists\n"
   ]
  },
  {
   "cell_type": "code",
   "execution_count": null,
   "id": "d82a843e",
   "metadata": {},
   "outputs": [],
   "source": [
    "if __name__ == '__main__':\n",
    "    full_list=[]\n",
    "    for _ in range(int(input())):\n",
    "        name = input()\n",
    "        score = float(input())\n",
    "        full_list.append([name,score]) # creating the nested list\n",
    "    score_sets = sorted(set([x[1] for x in full_list])) # getting the scores set\n",
    "    runnerUp = score_sets[1] # getting the second lowest score\n",
    "    lastRunnerUp = [] # final version of runnerUp list\n",
    "    for x in full_list:\n",
    "        if runnerUp == x[1]: # checking the runnerUp number if its equal to scores\n",
    "            lastRunnerUp.append(x[0]) # adding the name to final runner up score list\n",
    "                    \n",
    "    for x in sorted(lastRunnerUp): # sorting the names in alphabetical order\n",
    "        print(x) # displaying the names"
   ]
  },
  {
   "cell_type": "markdown",
   "id": "fc5ef4b1",
   "metadata": {},
   "source": [
    "# Finding the Percentage"
   ]
  },
  {
   "cell_type": "code",
   "execution_count": null,
   "id": "534e1ce8",
   "metadata": {},
   "outputs": [],
   "source": [
    "if __name__ == '__main__':\n",
    "    n = int(input())\n",
    "    student_marks = {}\n",
    "    for _ in range(n):\n",
    "        name, *line = input().split()\n",
    "        scores = list(map(float, line))\n",
    "        student_marks[name] = scores\n",
    "    query_name = input()\n",
    "    \n",
    "total = 0.0 # total value of the ones grades\n",
    "for x in student_marks[query_name]: # iterating through the grades of given student\n",
    "    total+=x # total grades of the given student\n",
    "    \n",
    "average = total/len(student_marks[query_name]) # finding average grade\n",
    "print(format(average, '.2f')) # printing to .2 decimal format\n",
    "    "
   ]
  },
  {
   "cell_type": "markdown",
   "id": "c734eb12",
   "metadata": {},
   "source": [
    "# sWAP cASE"
   ]
  },
  {
   "cell_type": "code",
   "execution_count": null,
   "id": "b1318e66",
   "metadata": {},
   "outputs": [],
   "source": [
    "def swap_case(s):\n",
    "    swapped_word = []\n",
    "    for letter in s:\n",
    "        if(letter.islower()):\n",
    "            swapped_word.append(letter.upper())\n",
    "        elif(letter.isupper()):\n",
    "            swapped_word.append(letter.lower())\n",
    "        else:\n",
    "            swapped_word.append(letter)\n",
    "    word = \"\".join(swapped_word)\n",
    "    return word\n",
    "\n",
    "\n"
   ]
  },
  {
   "cell_type": "markdown",
   "id": "bc2bd8fc",
   "metadata": {},
   "source": [
    "# String Split and Join"
   ]
  },
  {
   "cell_type": "code",
   "execution_count": null,
   "id": "ccaf9c6b",
   "metadata": {},
   "outputs": [],
   "source": [
    "def split_and_join(line):\n",
    "    # write your code here\n",
    "    lineList = line.split()\n",
    "    lineList = \"-\".join(lineList)\n",
    "    return lineList\n",
    "\n"
   ]
  },
  {
   "cell_type": "markdown",
   "id": "06ceeec1",
   "metadata": {},
   "source": [
    "# What's Your Name?\n"
   ]
  },
  {
   "cell_type": "code",
   "execution_count": null,
   "id": "5b5772d3",
   "metadata": {},
   "outputs": [],
   "source": [
    "#\n",
    "# Complete the 'print_full_name' function below.\n",
    "#\n",
    "# The function is expected to return a STRING.\n",
    "# The function accepts following parameters:\n",
    "#  1. STRING first\n",
    "#  2. STRING last\n",
    "#\n",
    "\n",
    "def print_full_name(first, last):\n",
    "    # Write your code here\n",
    "    full_name = first+\" \"+last\n",
    "    print(\"Hello \"+full_name+\"! You just delved into python.\")\n",
    "\n"
   ]
  },
  {
   "cell_type": "markdown",
   "id": "84e8b609",
   "metadata": {},
   "source": [
    "# Mutations\n"
   ]
  },
  {
   "cell_type": "code",
   "execution_count": null,
   "id": "5888fec4",
   "metadata": {},
   "outputs": [],
   "source": [
    "def mutate_string(string, position, character):\n",
    "    '''converted_to_list = list(string)\n",
    "    converted_to_list[position] = character\n",
    "    word = \"\".join(converted_to_list)'''\n",
    "    string = string[:position]+character+string[position+1:]\n",
    "    return string\n",
    "\n",
    "\n"
   ]
  },
  {
   "cell_type": "markdown",
   "id": "dc5bbc64",
   "metadata": {},
   "source": [
    "# Find a string"
   ]
  },
  {
   "cell_type": "code",
   "execution_count": null,
   "id": "e72be407",
   "metadata": {},
   "outputs": [],
   "source": [
    "\n",
    "def count_substring(string, sub_string):\n",
    "    count=0\n",
    "    for x in range(0,len(string)-len(sub_string)+1):\n",
    "        if string[x:x+len(sub_string)]==sub_string:\n",
    "            count+=1\n",
    "    return count\n",
    "    "
   ]
  },
  {
   "cell_type": "markdown",
   "id": "f07c59ee",
   "metadata": {},
   "source": [
    "# String Validators"
   ]
  },
  {
   "cell_type": "code",
   "execution_count": null,
   "id": "535a8b16",
   "metadata": {},
   "outputs": [],
   "source": [
    "if __name__ == '__main__':\n",
    "    s = input()\n",
    "countNum = 0\n",
    "countAlpha = 0\n",
    "countDigit = 0\n",
    "countLower = 0\n",
    "countUpper = 0\n",
    "for char in s:\n",
    "    if char.isalnum():\n",
    "        countNum+=1\n",
    "    if char.isalpha():\n",
    "        countAlpha+=1\n",
    "    if char.isdigit():\n",
    "        countDigit+=1\n",
    "    if char.islower():\n",
    "        countLower+=1\n",
    "    if char.isupper():\n",
    "        countUpper+=1\n",
    "print(\"True\") if countNum>0 else print(\"False\")\n",
    "print(\"True\") if countAlpha>0 else print(\"False\")\n",
    "print(\"True\") if countDigit>0 else print(\"False\")\n",
    "print(\"True\") if countLower>0 else print(\"False\")\n",
    "print(\"True\") if countUpper>0 else print(\"False\")\n"
   ]
  },
  {
   "cell_type": "markdown",
   "id": "df97b48b",
   "metadata": {},
   "source": [
    "# Text Alignment\n"
   ]
  },
  {
   "cell_type": "code",
   "execution_count": null,
   "id": "fd4c392f",
   "metadata": {},
   "outputs": [],
   "source": [
    "#Replace all ______ with rjust, ljust or center. \n",
    "\n",
    "thickness = int(input()) #This must be an odd number\n",
    "c = 'H'\n",
    "\n",
    "#Top Cone\n",
    "for i in range(thickness):\n",
    "    print((c*i).rjust(thickness-1)+c+(c*i).ljust(thickness-1))\n",
    "\n",
    "#Top Pillars\n",
    "for i in range(thickness+1):\n",
    "    print((c*thickness).center(thickness*2)+(c*thickness).center(thickness*6))\n",
    "\n",
    "#Middle Belt\n",
    "for i in range((thickness+1)//2):\n",
    "    print((c*thickness*5).center(thickness*6))    \n",
    "\n",
    "#Bottom Pillars\n",
    "for i in range(thickness+1):\n",
    "    print((c*thickness).center(thickness*2)+(c*thickness).center(thickness*6))    \n",
    "\n",
    "#Bottom Cone\n",
    "for i in range(thickness):\n",
    "    print(((c*(thickness-i-1)).rjust(thickness)+c+(c*(thickness-i-1)).ljust(thickness)).rjust(thickness*6))\n",
    "\n"
   ]
  },
  {
   "cell_type": "markdown",
   "id": "49aa9825",
   "metadata": {},
   "source": [
    "# Text Wrap\n"
   ]
  },
  {
   "cell_type": "code",
   "execution_count": null,
   "id": "068d1f7f",
   "metadata": {},
   "outputs": [],
   "source": [
    "\n",
    "\n",
    "def wrap(string, max_width):\n",
    "    wrapper = textwrap.TextWrapper(max_width)\n",
    "    string = wrapper.wrap(string)\n",
    "    word = \"\\n\".join(string)\n",
    "    return word\n",
    "\n",
    "\n"
   ]
  },
  {
   "cell_type": "markdown",
   "id": "d689f07e",
   "metadata": {},
   "source": [
    "# Designer Door Mat\n"
   ]
  },
  {
   "cell_type": "code",
   "execution_count": null,
   "id": "d3a7a4f0",
   "metadata": {},
   "outputs": [],
   "source": [
    "# Enter your code here. Read input from STDIN. Print output to STDOUT\n",
    "n,m = map(int, input().split())\n",
    "for i in range(1, n, 2):\n",
    "    print(str('.|.' * i).center(m, '-'))\n",
    "print('WELCOME'.center(m, '-'))\n",
    "for i in range(n-2, -1, -2):\n",
    "    print(str('.|.' * i).center(m, '-'))"
   ]
  },
  {
   "cell_type": "markdown",
   "id": "4216fd52",
   "metadata": {},
   "source": [
    "# String Formatting"
   ]
  },
  {
   "cell_type": "code",
   "execution_count": null,
   "id": "4a50f550",
   "metadata": {},
   "outputs": [],
   "source": [
    "def print_formatted(number):\n",
    "    # your code goes here\n",
    "    space = len(bin(number)[2:])\n",
    "    for x in range(1,number+1):\n",
    "        octadecimal = oct(x).split('o')\n",
    "        hexadecimal = hex(x).split('x')\n",
    "        binary = bin(x).split('b')\n",
    "        print(str(x).rjust(space,\" \"),octadecimal[1].rjust(space,\" \"),hexadecimal[1].upper().rjust(space,\" \"),binary[1].rjust(space,\" \"))"
   ]
  },
  {
   "cell_type": "markdown",
   "id": "5a5388d8",
   "metadata": {},
   "source": [
    "# Capitalize!"
   ]
  },
  {
   "cell_type": "code",
   "execution_count": null,
   "id": "e66b6ed5",
   "metadata": {},
   "outputs": [],
   "source": [
    "\n",
    "\n",
    "# Complete the solve function below.\n",
    "def solve(s):\n",
    "    nameList = list(s)\n",
    "    for x in range(len(nameList)):\n",
    "        if(x==0):\n",
    "            nameList[0]=nameList[0].upper()\n",
    "        if(nameList[x]==\" \"):\n",
    "            nameList[x+1]=nameList[x+1].upper()\n",
    "    return(\"\".join(nameList))"
   ]
  },
  {
   "cell_type": "markdown",
   "id": "95add10e",
   "metadata": {},
   "source": [
    "# Introduction to Sets\n"
   ]
  },
  {
   "cell_type": "code",
   "execution_count": null,
   "id": "594fd7f3",
   "metadata": {},
   "outputs": [],
   "source": [
    "\n",
    "import decimal\n",
    "def average(array):\n",
    "    # your code goes here\n",
    "    average = sum(set(array))/len(set(array))\n",
    "    return average\n",
    "    \n",
    "\n"
   ]
  },
  {
   "cell_type": "markdown",
   "id": "3aaa0272",
   "metadata": {},
   "source": [
    "# Symmetric Difference\n"
   ]
  },
  {
   "cell_type": "code",
   "execution_count": null,
   "id": "14f7abe5",
   "metadata": {},
   "outputs": [],
   "source": [
    "# Enter your code here. Read input from STDIN. Print output to STDOUT\n",
    "m = input()\n",
    "mSet = set(map(int,input().split()))\n",
    "n = input()\n",
    "nSet = set(map(int,input().split()))\n",
    "symmetricDifference = (mSet.difference(nSet).union(nSet.difference(mSet)))\n",
    "\n",
    "for x in sorted(symmetricDifference):\n",
    "    print(x)\n",
    "\n"
   ]
  },
  {
   "cell_type": "markdown",
   "id": "ccc25ddf",
   "metadata": {},
   "source": [
    "# No Idea!\n"
   ]
  },
  {
   "cell_type": "code",
   "execution_count": null,
   "id": "1aba46e3",
   "metadata": {},
   "outputs": [],
   "source": [
    "# Enter your code here. Read input from STDIN. Print output to STDOUT\n",
    "if __name__ == \"__main__\":\n",
    "    total = input().split()\n",
    "    m = total[0]\n",
    "    n = total[1]\n",
    "    array = list(map(int,input().split()))\n",
    "    setA = set(map(int,input().split()))\n",
    "    setB = set(map(int,input().split()))\n",
    "    counter=0\n",
    "    for x in array:\n",
    "        if x in setA:\n",
    "            counter+=1\n",
    "        if x in setB:\n",
    "            counter-=1\n",
    "    print(counter)"
   ]
  },
  {
   "cell_type": "markdown",
   "id": "2d8ed49c",
   "metadata": {},
   "source": [
    "# Set .add()\n"
   ]
  },
  {
   "cell_type": "code",
   "execution_count": null,
   "id": "2537c7e1",
   "metadata": {},
   "outputs": [],
   "source": [
    "# Enter your code here. Read input from STDIN. Print output to STDOUT\n",
    "country_stamps_num = input()\n",
    "distinct_country = set()\n",
    "for x in range(int(country_stamps_num)):\n",
    "    distinct_country.add(input())\n",
    "print(len(distinct_country))\n",
    "\n"
   ]
  },
  {
   "cell_type": "markdown",
   "id": "702947ca",
   "metadata": {},
   "source": [
    "# Set .discard(), .remove() & .pop()\n"
   ]
  },
  {
   "cell_type": "code",
   "execution_count": null,
   "id": "1cb26d3c",
   "metadata": {},
   "outputs": [],
   "source": [
    "n = int(input())\n",
    "s = set(map(int, input().split()))\n",
    "num_commands = int(input())\n",
    "for command in range(num_commands):\n",
    "    command = str(input())\n",
    "    if(command.split()[0] == 'pop'):s.pop()\n",
    "    if(command.split()[0] == 'remove'):s.remove(int(command.split()[-1]))\n",
    "    if(command.split()[0] == 'discard'):s.discard(int(command.split()[-1]))\n",
    "total=0\n",
    "for numbers in s: total+=numbers\n",
    "print(total)\n",
    "    "
   ]
  },
  {
   "cell_type": "markdown",
   "id": "2303c489",
   "metadata": {},
   "source": [
    "# Set .union() Operation\n"
   ]
  },
  {
   "cell_type": "code",
   "execution_count": null,
   "id": "bdd718a9",
   "metadata": {},
   "outputs": [],
   "source": [
    "# Enter your code here. Read input from STDIN. Print output to STDOUT\n",
    "num_en = input()\n",
    "num_roll_en = set(input().split())\n",
    "num_fr = input()\n",
    "num_roll_fr = set(input().split())\n",
    "print(len(set(num_roll_en.union(num_roll_fr))))"
   ]
  },
  {
   "cell_type": "markdown",
   "id": "7add4e06",
   "metadata": {},
   "source": [
    "# Set .intersection() Operation\n"
   ]
  },
  {
   "cell_type": "code",
   "execution_count": null,
   "id": "5729d8f7",
   "metadata": {},
   "outputs": [],
   "source": [
    "# Enter your code here. Read input from STDIN. Print output to STDOUT\n",
    "num_en = input()\n",
    "num_roll_en = set(input().split())\n",
    "num_fr = input()\n",
    "num_roll_fr = set(input().split())\n",
    "print(len(num_roll_en.intersection(num_roll_fr)))"
   ]
  },
  {
   "cell_type": "markdown",
   "id": "e8ef9312",
   "metadata": {},
   "source": [
    "# Set .difference() Operation\n"
   ]
  },
  {
   "cell_type": "code",
   "execution_count": null,
   "id": "65cce9cf",
   "metadata": {},
   "outputs": [],
   "source": [
    "# Enter your code here. Read input from STDIN. Print output to STDOUT\n",
    "num_en = input()\n",
    "num_roll_en = set(input().split())\n",
    "num_fr = input()\n",
    "num_roll_fr = set(input().split())\n",
    "print(len(num_roll_en.difference(num_roll_en.intersection(num_roll_fr))))"
   ]
  },
  {
   "cell_type": "markdown",
   "id": "fe50fce7",
   "metadata": {},
   "source": [
    "# Set .symmetric_difference() Operation"
   ]
  },
  {
   "cell_type": "code",
   "execution_count": null,
   "id": "11c74249",
   "metadata": {},
   "outputs": [],
   "source": [
    "# Enter your code here. Read input from STDIN. Print output to STDOUT\n",
    "num_en = input()\n",
    "num_roll_en = set(input().split())\n",
    "num_fr = input()\n",
    "num_roll_fr = set(input().split())\n",
    "print(len(num_roll_en.symmetric_difference(num_roll_fr)))\n",
    "\n"
   ]
  },
  {
   "cell_type": "markdown",
   "id": "39f5a88d",
   "metadata": {},
   "source": [
    "# Set Mutations"
   ]
  },
  {
   "cell_type": "code",
   "execution_count": null,
   "id": "6478957f",
   "metadata": {},
   "outputs": [],
   "source": [
    "# Enter your code here. Read input from STDIN. Print output to STDOUT\n",
    "num_sets= input()\n",
    "set_list = set(input().split())\n",
    "set_other = int(input())\n",
    "for command in range(set_other):\n",
    "    command = str(input())\n",
    "    if(command.split()[0] == 'intersection_update'):\n",
    "        set_list.intersection_update(set(input().split()))\n",
    "    if(command.split()[0] == 'update'):\n",
    "        set_list.update(set(input().split()))\n",
    "    if(command.split()[0] == 'symmetric_difference_update'):\n",
    "        set_list.symmetric_difference_update(set(input().split()))\n",
    "    if(command.split()[0] == 'difference_update'):\n",
    "        set_list.difference_update(set(input().split()))\n",
    "    \n",
    "print(sum(map(int,set_list)))\n",
    "\n"
   ]
  },
  {
   "cell_type": "markdown",
   "id": "e5a07d51",
   "metadata": {},
   "source": [
    "# The Captain's Room\n"
   ]
  },
  {
   "cell_type": "code",
   "execution_count": null,
   "id": "aae7048c",
   "metadata": {},
   "outputs": [],
   "source": [
    "# Enter your code here. Read input from STDIN. Print output to STDOUT\n",
    "\n",
    "numberK = int(input())\n",
    "room_numbers = list(map(int,input().split()))\n",
    "sum_numbers = sum(room_numbers)\n",
    "sum_set_numbers = sum(set(room_numbers))\n",
    "print(int(((sum_set_numbers*numberK)-sum_numbers)/(numberK-1)))\n"
   ]
  },
  {
   "cell_type": "markdown",
   "id": "35d6405b",
   "metadata": {},
   "source": [
    "# Check Subset\n"
   ]
  },
  {
   "cell_type": "code",
   "execution_count": null,
   "id": "6b409eca",
   "metadata": {},
   "outputs": [],
   "source": [
    "# Enter your code here. Read input from STDIN. Print output to STDOUT\n",
    "num_test = int(input())\n",
    "for x in range(num_test):\n",
    "    size_A = int(input())\n",
    "    set_A = set(input().split())\n",
    "    size_B = int(input())\n",
    "    set_B = set(input().split())\n",
    "    print(set_A.issubset(set_B))\n",
    "\n",
    "    "
   ]
  },
  {
   "cell_type": "markdown",
   "id": "4a0d610f",
   "metadata": {},
   "source": [
    "# Check Strict Superset\n"
   ]
  },
  {
   "cell_type": "code",
   "execution_count": null,
   "id": "b9bf3668",
   "metadata": {},
   "outputs": [],
   "source": [
    "# Enter your code here. Read input from STDIN. Print output to STDOUT\n",
    "setA = set(input().split())\n",
    "num_other_sets = input()\n",
    "counter = 0\n",
    "for x in range(int(num_other_sets)):\n",
    "    other_set = set(input().split())\n",
    "    if(setA.issuperset(other_set)):counter+=1\n",
    "    \n",
    "print('True') if(counter==int(num_other_sets)) else print('False')"
   ]
  },
  {
   "cell_type": "markdown",
   "id": "b60c0c6c",
   "metadata": {},
   "source": [
    "# collections.Counter()\n"
   ]
  },
  {
   "cell_type": "code",
   "execution_count": null,
   "id": "8819696a",
   "metadata": {},
   "outputs": [],
   "source": [
    "# Enter your code here. Read input from STDIN. Print output to STDOUT\n",
    "from collections import Counter\n",
    "num_shoes = int(input())\n",
    "size_shoes = Counter(map(int,input().split()))\n",
    "num_customers = int(input())\n",
    "total = 0\n",
    "for x in range(num_customers):\n",
    "    size,price = map(int,input().split())\n",
    "    if size_shoes[size]:\n",
    "        total+=price\n",
    "        size_shoes[size]+=-1\n",
    "print(total)   "
   ]
  },
  {
   "cell_type": "markdown",
   "id": "dd87228c",
   "metadata": {},
   "source": [
    "# DefaultDict Tutorial\n"
   ]
  },
  {
   "cell_type": "code",
   "execution_count": null,
   "id": "3f6f633f",
   "metadata": {},
   "outputs": [],
   "source": [
    "# Enter your code here. Read input from STDIN. Print output to STDOUT\n",
    "from collections import defaultdict\n",
    "d = defaultdict(list)\n",
    "n,m = map(int,input().split())\n",
    "for x in range(1,n+1): d[input()].append(x)\n",
    "#print(d)\n",
    "for y in range(1,m+1): \n",
    "    char = input()\n",
    "    if char in d:\n",
    "        print(\" \".join(map(str,d[char])))\n",
    "    else:\n",
    "        print(-1)\n",
    "#print(d)\n",
    "\n"
   ]
  },
  {
   "cell_type": "markdown",
   "id": "8b95befa",
   "metadata": {},
   "source": [
    "# Collections.namedtuple()\n"
   ]
  },
  {
   "cell_type": "code",
   "execution_count": null,
   "id": "636df920",
   "metadata": {},
   "outputs": [],
   "source": [
    "# Enter your code here. Read input from STDIN. Print output to STDOUT\n",
    "from collections import namedtuple\n",
    "num_students = int(input())\n",
    "column_info = input()\n",
    "Column_names = namedtuple('Column_names',column_info)\n",
    "total_marks = 0\n",
    "#student = Column_names(ID=1,MARKS=79,NAME=\"Jonathan\",CLASS=12)\n",
    "#print(student.MARKS)\n",
    "for _ in range(num_students):\n",
    "    student = Column_names(*input().split())\n",
    "    total_marks+=int(student.MARKS)\n",
    "print(total_marks/num_students)\n",
    "\n"
   ]
  },
  {
   "cell_type": "markdown",
   "id": "810affda",
   "metadata": {},
   "source": [
    "# Collections.OrderedDict()\n"
   ]
  },
  {
   "cell_type": "code",
   "execution_count": null,
   "id": "ddbaafc2",
   "metadata": {},
   "outputs": [],
   "source": [
    "# Enter your code here. Read input from STDIN. Print output to STDOUT\n",
    "from collections import OrderedDict\n",
    "num_items = int(input())\n",
    "ordered_items = OrderedDict()\n",
    "for _ in range(num_items):\n",
    "    values = input().split(\" \")\n",
    "    item_name = (\" \").join(values[:-1])\n",
    "    item_price = int(values[-1])\n",
    "    if ordered_items.get(item_name):\n",
    "        ordered_items[item_name] += item_price\n",
    "    else:\n",
    "         ordered_items[item_name] = item_price \n",
    "for item_name,price in ordered_items.items():\n",
    "    print(item_name,price)\n",
    "    "
   ]
  },
  {
   "cell_type": "markdown",
   "id": "79f30b10",
   "metadata": {},
   "source": [
    "# Word Order\n"
   ]
  },
  {
   "cell_type": "code",
   "execution_count": null,
   "id": "93229d67",
   "metadata": {},
   "outputs": [],
   "source": [
    "# Enter your code here. Read input from STDIN. Print output to STDOUT\n",
    "from collections import Counter\n",
    "num_lines = int(input())\n",
    "counter = Counter()\n",
    "line = []\n",
    "for _ in range(num_lines):\n",
    "    line.append(input().strip())\n",
    "counter = Counter(line)\n",
    "\n",
    "print(len(counter))\n",
    "print(*counter.values())\n",
    "\n"
   ]
  },
  {
   "cell_type": "markdown",
   "id": "c941e997",
   "metadata": {},
   "source": [
    "# Collections.deque()\n"
   ]
  },
  {
   "cell_type": "code",
   "execution_count": null,
   "id": "d743bd67",
   "metadata": {},
   "outputs": [],
   "source": [
    "# Enter your code here. Read input from STDIN. Print output to STDOUT\n",
    "from collections import deque\n",
    "num_opr = int(input())\n",
    "d = deque()\n",
    "for _ in range(num_opr):\n",
    "    command = input().split()\n",
    "    #if(command == '')\n",
    "    if(command[0] == 'append'): d.append(command[1])\n",
    "    if(command[0] == 'appendleft'): d.appendleft(command[1])\n",
    "    if(command[0] == 'pop'): d.pop()\n",
    "    if(command[0] == 'popleft'): d.popleft()\n",
    "print(*d)\n",
    "    \n",
    "\n"
   ]
  },
  {
   "cell_type": "markdown",
   "id": "0a53f8d3",
   "metadata": {},
   "source": [
    "# Calendar Module\n"
   ]
  },
  {
   "cell_type": "code",
   "execution_count": null,
   "id": "cda0cb5f",
   "metadata": {},
   "outputs": [],
   "source": [
    "# Enter your code here. Read input from STDIN. Print output to STDOUT\n",
    "import calendar\n",
    "day, month, year = map(int,input().split())\n",
    "print((calendar.day_name[calendar.weekday(year,day,month)]).upper())\n",
    "#print(calendar.day_name(given_date))"
   ]
  },
  {
   "cell_type": "markdown",
   "id": "b64a86d5",
   "metadata": {},
   "source": [
    "# Exceptions\n"
   ]
  },
  {
   "cell_type": "code",
   "execution_count": null,
   "id": "ca9f120f",
   "metadata": {},
   "outputs": [],
   "source": [
    "# Enter your code here. Read input from STDIN. Print output to STDOUT\n",
    "for _ in range(int(input())):\n",
    "    try:\n",
    "        a,b = map(int,input().split())\n",
    "        print(a//b)\n",
    "    except (ValueError,ZeroDivisionError) as e:\n",
    "        print (\"Error Code:\",e)\n",
    "\n"
   ]
  },
  {
   "cell_type": "markdown",
   "id": "6dfa8f3c",
   "metadata": {},
   "source": [
    "# Incorrect Regex\n"
   ]
  },
  {
   "cell_type": "code",
   "execution_count": null,
   "id": "e6b00af9",
   "metadata": {},
   "outputs": [],
   "source": [
    "# Enter your code here. Read input from STDIN. Print output to STDOUT\n",
    "import re\n",
    "num_test = int(input())\n",
    "for _ in range(num_test):\n",
    "    line = str(input())\n",
    "    try:\n",
    "        re.compile(line)\n",
    "        print(\"True\")\n",
    "    except re.error:\n",
    "        print(\"False\")\n",
    "    \n",
    "\n"
   ]
  },
  {
   "cell_type": "markdown",
   "id": "a58a27b8",
   "metadata": {},
   "source": [
    "# Zipped!\n"
   ]
  },
  {
   "cell_type": "code",
   "execution_count": null,
   "id": "b6157530",
   "metadata": {},
   "outputs": [],
   "source": [
    "# Enter your code here. Read input from STDIN. Print output to STDOUT\n",
    "n,x = map(int,input().split())\n",
    "grades = []\n",
    "for _ in range(x):\n",
    "    grades.append((map(float,input().split())))\n",
    "for i in zip(*grades):\n",
    "    print(sum(i)/len(i))\n",
    "# I checked the hackerranks solution for the last 'for loop' of the code. \n",
    "\n"
   ]
  },
  {
   "cell_type": "markdown",
   "id": "633a36c6",
   "metadata": {},
   "source": [
    "# Map and Lambda Function"
   ]
  },
  {
   "cell_type": "code",
   "execution_count": null,
   "id": "ef621814",
   "metadata": {},
   "outputs": [],
   "source": [
    "cube = lambda x: x**3 # complete the lambda function \n",
    "\n",
    "def fibonacci(n):\n",
    "    # return a list of fibonacci numbers\n",
    "    fib_list = [0,1]\n",
    "    for i in range(2,n):\n",
    "        fib_list.append(fib_list[i-2] + fib_list[i-1])\n",
    "    return fib_list[0:n]\n",
    "\n"
   ]
  },
  {
   "cell_type": "markdown",
   "id": "199a6483",
   "metadata": {},
   "source": [
    "# XML 1 - Find the Score\n"
   ]
  },
  {
   "cell_type": "code",
   "execution_count": null,
   "id": "38836ec5",
   "metadata": {},
   "outputs": [],
   "source": [
    "def get_attr_number(node):\n",
    "    # your code goes here\n",
    "    return xml.count('=')"
   ]
  },
  {
   "cell_type": "markdown",
   "id": "b1f4a795",
   "metadata": {},
   "source": [
    "# XML2 - Find the Maximum Depth\n"
   ]
  },
  {
   "cell_type": "code",
   "execution_count": null,
   "id": "061b45d5",
   "metadata": {},
   "outputs": [],
   "source": [
    "\n",
    "\n",
    "maxdepth = 0\n",
    "def depth(elem, level):\n",
    "    global maxdepth\n",
    "    # your code goes here\n",
    "    level += 1\n",
    "    if (level >= maxdepth):\n",
    "        maxdepth = level\n",
    "    for child in elem:\n",
    "        depth(child, level)\n",
    "        # I got this code from hackerrank solutions. I understood how it works.\n",
    "\n"
   ]
  },
  {
   "cell_type": "markdown",
   "id": "0e97e0b2",
   "metadata": {},
   "source": [
    "# Arrays\n"
   ]
  },
  {
   "cell_type": "code",
   "execution_count": null,
   "id": "1780fb27",
   "metadata": {},
   "outputs": [],
   "source": [
    "\n",
    "\n",
    "def arrays(arr):\n",
    "    # complete this function\n",
    "    # use numpy.array\n",
    "    return numpy.array(arr[::-1],float)\n",
    "\n",
    "\n"
   ]
  },
  {
   "cell_type": "markdown",
   "id": "205bb1f9",
   "metadata": {},
   "source": [
    "# Shape and Reshape\n"
   ]
  },
  {
   "cell_type": "code",
   "execution_count": null,
   "id": "209a0e67",
   "metadata": {},
   "outputs": [],
   "source": [
    "\n",
    "\n",
    "def arrays(arr):\n",
    "    # complete this function\n",
    "    # use numpy.array\n",
    "    return numpy.array(arr[::-1],float)\n",
    "\n",
    "\n"
   ]
  },
  {
   "cell_type": "markdown",
   "id": "aed833be",
   "metadata": {},
   "source": [
    "# Transpose and Flatten\n"
   ]
  },
  {
   "cell_type": "code",
   "execution_count": null,
   "id": "bb0b8988",
   "metadata": {},
   "outputs": [],
   "source": [
    "import numpy as np\n",
    "n,m = map(int,input().split())\n",
    "temp = []\n",
    "for i in range(n):\n",
    "    array = np.array(input().split())\n",
    "    temp.append(array)\n",
    "last_array = np.array(temp,int)\n",
    "print(np.transpose(last_array))\n",
    "print(last_array.flatten())\n",
    "\n",
    "\n"
   ]
  },
  {
   "cell_type": "markdown",
   "id": "d15e1eb6",
   "metadata": {},
   "source": [
    "# Concatenate\n"
   ]
  },
  {
   "cell_type": "code",
   "execution_count": null,
   "id": "8b592328",
   "metadata": {},
   "outputs": [],
   "source": [
    "import numpy as np\n",
    "n,m,p = map(int,input().split())\n",
    "array1 = np.array([input().split() for _ in range(n)], int)\n",
    "array2 = np.array([input().split() for _ in range(m)], int)\n",
    "print(np.concatenate((array1,array2),axis = 0))"
   ]
  },
  {
   "cell_type": "markdown",
   "id": "5a656f88",
   "metadata": {},
   "source": [
    "# Zeros and Ones\n"
   ]
  },
  {
   "cell_type": "code",
   "execution_count": null,
   "id": "d402676e",
   "metadata": {},
   "outputs": [],
   "source": [
    "import numpy as np\n",
    "numbers = tuple(map(int,input().split()))\n",
    "print(np.zeros(numbers, dtype = np.int))\n",
    "print(np.ones(numbers, dtype = np.int))\n",
    "\n",
    "\n"
   ]
  },
  {
   "cell_type": "markdown",
   "id": "d765a894",
   "metadata": {},
   "source": [
    "# Eye and Identity\n"
   ]
  },
  {
   "cell_type": "code",
   "execution_count": null,
   "id": "2b74c0cb",
   "metadata": {},
   "outputs": [],
   "source": [
    "import numpy as np\n",
    "np.set_printoptions(legacy = '1.13')\n",
    "n,m = map(int,input().split())\n",
    "print(np.eye(n,m,k=0))"
   ]
  },
  {
   "cell_type": "markdown",
   "id": "d6509fa1",
   "metadata": {},
   "source": [
    "# Array Mathematics\n"
   ]
  },
  {
   "cell_type": "code",
   "execution_count": null,
   "id": "3676a707",
   "metadata": {},
   "outputs": [],
   "source": [
    "import numpy as np\n",
    "n,m = map(int, input().split())\n",
    "arrayA = np.array([input().split() for _ in range(n)],int)\n",
    "arrayB = np.array([input().split() for _ in range(n)],int)\n",
    "\n",
    "print(np.add(arrayA,arrayB))\n",
    "print(np.subtract(arrayA,arrayB))\n",
    "print(np.multiply(arrayA,arrayB))\n",
    "print(np.floor_divide(arrayA,arrayB))\n",
    "print(np.mod(arrayA,arrayB))\n",
    "print(np.power(arrayA,arrayB))"
   ]
  },
  {
   "cell_type": "markdown",
   "id": "ced7a05e",
   "metadata": {},
   "source": [
    "# Floor, Ceil and Rint\n"
   ]
  },
  {
   "cell_type": "code",
   "execution_count": null,
   "id": "1d6d4f12",
   "metadata": {},
   "outputs": [],
   "source": [
    "import numpy as np\n",
    "np.set_printoptions(sign=' ')\n",
    "array1d = np.array(input().split(), float)\n",
    "print(np.floor(array1d))\n",
    "print(np.ceil(array1d))\n",
    "print(np.rint(array1d))\n",
    "\n"
   ]
  },
  {
   "cell_type": "markdown",
   "id": "b04a9466",
   "metadata": {},
   "source": [
    "# Sum and Prod\n"
   ]
  },
  {
   "cell_type": "code",
   "execution_count": null,
   "id": "be6012f7",
   "metadata": {},
   "outputs": [],
   "source": [
    "import numpy as np\n",
    "n,m = map(int,input().split())\n",
    "\n",
    "matrix = np.array([input().split() for _ in range(n)], int) \n",
    "print(np.prod(np.sum(matrix, axis = 0)))"
   ]
  },
  {
   "cell_type": "markdown",
   "id": "1c5e63cc",
   "metadata": {},
   "source": [
    "# Min and Max\n"
   ]
  },
  {
   "cell_type": "code",
   "execution_count": null,
   "id": "27cae90e",
   "metadata": {},
   "outputs": [],
   "source": [
    "import numpy as np\n",
    "n,m = map(int,input().split())\n",
    "array = np.array([input().split() for _ in range(n)],int)\n",
    "print(np.max(np.min(array, axis = 1)))"
   ]
  },
  {
   "cell_type": "markdown",
   "id": "edfc11e3",
   "metadata": {},
   "source": [
    "# Mean, Var, and Std\n"
   ]
  },
  {
   "cell_type": "code",
   "execution_count": null,
   "id": "c27f999a",
   "metadata": {},
   "outputs": [],
   "source": [
    "import numpy as np\n",
    "np.set_printoptions(legacy=False)\n",
    "\n",
    "n,m = map(int,input().split())\n",
    "array = np.array([input().split() for _ in range(n)],int)\n",
    "print(np.mean(array,axis=1))\n",
    "print(np.var(array,axis=0))\n",
    "print(np.around(np.std(array, axis = None),decimals=11)) \n",
    "# there is a bug in the hackerrank site related to python versions and string formatting\n",
    "# so the last and second line of the code has been taken from hackerrank solutions\n",
    "\n"
   ]
  },
  {
   "cell_type": "markdown",
   "id": "03bebe2b",
   "metadata": {},
   "source": [
    "# Dot and Cross\n"
   ]
  },
  {
   "cell_type": "code",
   "execution_count": null,
   "id": "c796fac6",
   "metadata": {},
   "outputs": [],
   "source": [
    "import numpy as np\n",
    "n = int(input())\n",
    "arrayA = np.array([input().split() for _ in range(n)], int)\n",
    "arrayB = np.array([input().split() for _ in range(n)], int)\n",
    "print(np.dot(arrayA, arrayB))\n",
    "\n"
   ]
  },
  {
   "cell_type": "markdown",
   "id": "c6a8440e",
   "metadata": {},
   "source": [
    "# Inner and Outer\n"
   ]
  },
  {
   "cell_type": "code",
   "execution_count": null,
   "id": "0c259026",
   "metadata": {},
   "outputs": [],
   "source": [
    "import numpy as np\n",
    "arrayA = np.array(input().split(), int)\n",
    "arrayB = np.array(input().split(), int)\n",
    "print(np.inner(arrayA, arrayB))\n",
    "print(np.outer(arrayA, arrayB))\n",
    "\n"
   ]
  },
  {
   "cell_type": "markdown",
   "id": "56b9fb3c",
   "metadata": {},
   "source": [
    "# Polynomials\n"
   ]
  },
  {
   "cell_type": "code",
   "execution_count": null,
   "id": "7d701b17",
   "metadata": {},
   "outputs": [],
   "source": [
    "import numpy as np\n",
    "p_coef = list(map(float, input().split()))\n",
    "x = int(input())\n",
    "print(np.polyval(p_coef,x))"
   ]
  },
  {
   "cell_type": "markdown",
   "id": "ef80d2dd",
   "metadata": {},
   "source": [
    "# Linear Algebra\n"
   ]
  },
  {
   "cell_type": "code",
   "execution_count": null,
   "id": "54d0bd0e",
   "metadata": {},
   "outputs": [],
   "source": [
    "import numpy as np\n",
    "np.set_printoptions(legacy='1.13')\n",
    "n = int(input())\n",
    "array = np.array([input().split() for _ in range(n)],float)\n",
    "print(np.linalg.det(array))"
   ]
  },
  {
   "cell_type": "markdown",
   "id": "1fabcff0",
   "metadata": {},
   "source": [
    "# Lists\n"
   ]
  },
  {
   "cell_type": "code",
   "execution_count": null,
   "id": "618e76f2",
   "metadata": {},
   "outputs": [],
   "source": [
    "if __name__ == '__main__':\n",
    "    N = int(input())\n",
    "    alist = []\n",
    "    for _ in range(N):\n",
    "        command = input().split()\n",
    "        if(command[0] == \"insert\"):\n",
    "            alist.insert(int(command[1]),int(command[2]))\n",
    "        elif(command[0] == \"print\"):\n",
    "            print(alist)\n",
    "        elif(command[0] == \"remove\"):\n",
    "            alist.remove(int(command[1]))\n",
    "        elif(command[0] == \"append\"):\n",
    "            alist.append(int(command[1]))\n",
    "        elif(command[0] == \"sort\"):\n",
    "            alist.sort()\n",
    "        elif(command[0] == \"pop\"):\n",
    "            alist.pop()\n",
    "        elif(command[0] == \"reverse\"):\n",
    "            alist.reverse()"
   ]
  },
  {
   "cell_type": "markdown",
   "id": "5bee71b4",
   "metadata": {},
   "source": [
    "# Tuples\n"
   ]
  },
  {
   "cell_type": "code",
   "execution_count": null,
   "id": "b7996d13",
   "metadata": {},
   "outputs": [],
   "source": [
    "if __name__ == '__main__':\n",
    "    n = int(raw_input())\n",
    "    integer_list = map(int, raw_input().split())\n",
    "    t = tuple(integer_list)\n",
    "    print(hash(t))\n",
    "\n"
   ]
  },
  {
   "cell_type": "markdown",
   "id": "4d201f66",
   "metadata": {},
   "source": [
    "# Alphabet Rangoli\n"
   ]
  },
  {
   "cell_type": "code",
   "execution_count": null,
   "id": "01d2d7ca",
   "metadata": {},
   "outputs": [],
   "source": [
    "import string\n",
    "def print_rangoli(size):\n",
    "    # your code goes here\n",
    "    alphabet = string.ascii_lowercase\n",
    "    rangoli = []\n",
    "    for i in range(size):\n",
    "        pattern = \"-\".join(alphabet[i:size])\n",
    "        rangoli.append((pattern[::-1]+pattern[1:]).center(4*size-3, \"-\"))\n",
    "    print('\\n'.join(rangoli[:0:-1]+rangoli))\n",
    "    # I took the code from hackerrank solutions, I understood the concept of the code"
   ]
  },
  {
   "cell_type": "markdown",
   "id": "edd7badd",
   "metadata": {},
   "source": [
    "# The Minion Game\n"
   ]
  },
  {
   "cell_type": "code",
   "execution_count": null,
   "id": "a21e9dfc",
   "metadata": {},
   "outputs": [],
   "source": [
    "def minion_game(string):\n",
    "    # your code goes here\n",
    "    string_length = len(string)\n",
    "    vowels = \"AEIOU\"\n",
    "    stuart_score = 0\n",
    "    kevin_score = 0\n",
    "    for i in range(string_length):\n",
    "        if(string[i] in vowels):\n",
    "            kevin_score+= string_length - i\n",
    "        else:\n",
    "            stuart_score+=string_length - i\n",
    "    if(stuart_score > kevin_score):\n",
    "        print(\"Stuart\",stuart_score)\n",
    "    elif(kevin_score > stuart_score):\n",
    "        print(\"Kevin\",kevin_score)\n",
    "    else:\n",
    "        print(\"Draw\")\n",
    "# I got the mathematical operation inside the for loop from solutoions. I understood the \n",
    "# math behind and how to implement it.\n",
    "\n"
   ]
  },
  {
   "cell_type": "markdown",
   "id": "9f37613a",
   "metadata": {},
   "source": [
    "# Merge the Tools!\n"
   ]
  },
  {
   "cell_type": "code",
   "execution_count": null,
   "id": "43b3881c",
   "metadata": {},
   "outputs": [],
   "source": [
    "def merge_the_tools(string, k):\n",
    "    # your code goes here\n",
    "    sub_length = int(len(string)/k)\n",
    "    sliced_string = list(map(''.join, zip(*[iter(string)]*k)))\n",
    "    output = []\n",
    "    for i in range(sub_length):\n",
    "        removed_duplicates = \"\".join(dict.fromkeys(sliced_string[i]))\n",
    "        output.append(removed_duplicates)\n",
    "    for i in range(sub_length):\n",
    "        print(output[i])\n",
    "\n"
   ]
  },
  {
   "cell_type": "markdown",
   "id": "3372d198",
   "metadata": {},
   "source": [
    "# Company Logo\n"
   ]
  },
  {
   "cell_type": "code",
   "execution_count": null,
   "id": "e592acbc",
   "metadata": {},
   "outputs": [],
   "source": [
    "#!/bin/python3\n",
    "\n",
    "import math\n",
    "import os\n",
    "import random\n",
    "import re\n",
    "import sys\n",
    "from collections import Counter\n",
    "\n",
    "\n",
    "if __name__ == '__main__':\n",
    "    s = input()\n",
    "    counter = Counter(sorted(s))\n",
    "    for item in counter.most_common(3):\n",
    "        print(*item)"
   ]
  },
  {
   "cell_type": "markdown",
   "id": "31b01e13",
   "metadata": {},
   "source": [
    "# Piling Up!\n"
   ]
  },
  {
   "cell_type": "code",
   "execution_count": null,
   "id": "324f4394",
   "metadata": {},
   "outputs": [],
   "source": [
    "# Enter your code here. Read input from STDIN. Print output to STDOUT\n",
    "from collections import deque\n",
    "num_test = int(input())\n",
    "for item in range(num_test):\n",
    "    num_cubes = int(input())\n",
    "    d = deque(map(int, input().split()))\n",
    "    while len(d) > 1 and d[0]>= d[1]:\n",
    "        d.popleft()\n",
    "    while len(d) > 1 and d[-1] >= d[-2]:\n",
    "        d.pop()\n",
    "    if len(d) <= 1:\n",
    "        print('Yes')\n",
    "    else: \n",
    "        print('No')\n",
    "# I took this code from the hackerrank solutions but I understood how the code works\n",
    "\n"
   ]
  },
  {
   "cell_type": "markdown",
   "id": "f038118b",
   "metadata": {},
   "source": [
    "# Time Delta\n"
   ]
  },
  {
   "cell_type": "code",
   "execution_count": null,
   "id": "769b103f",
   "metadata": {},
   "outputs": [],
   "source": [
    "#!/bin/python3\n",
    "\n",
    "import math\n",
    "import os\n",
    "import random\n",
    "import re\n",
    "import sys\n",
    "import datetime\n",
    "# Complete the time_delta function below.\n",
    "def time_delta(t1, t2):\n",
    "    t1 = datetime.datetime.strptime(t1,'%a %d %b %Y %H:%M:%S %z' )\n",
    "    t2 = datetime.datetime.strptime(t2,'%a %d %b %Y %H:%M:%S %z' )\n",
    "    return str(int((abs(t1-t2)).total_seconds()))\n",
    "    # I took this code from the hackerrank solutions and I understood how the code works\n",
    "if __name__ == '__main__':\n",
    "    fptr = open(os.environ['OUTPUT_PATH'], 'w')\n",
    "\n",
    "    t = int(input())\n",
    "\n",
    "    for t_itr in range(t):\n",
    "        t1 = input()\n",
    "\n",
    "        t2 = input()\n",
    "\n",
    "        delta = time_delta(t1, t2)\n",
    "\n",
    "        fptr.write(delta + '\\n')\n",
    "\n",
    "    fptr.close()\n",
    "\n"
   ]
  },
  {
   "cell_type": "markdown",
   "id": "3f306640",
   "metadata": {},
   "source": [
    "# Time Delta\n"
   ]
  },
  {
   "cell_type": "code",
   "execution_count": null,
   "id": "d2832d9f",
   "metadata": {},
   "outputs": [],
   "source": [
    "#!/bin/python3\n",
    "\n",
    "import math\n",
    "import os\n",
    "import random\n",
    "import re\n",
    "import sys\n",
    "import datetime\n",
    "# Complete the time_delta function below.\n",
    "def time_delta(t1, t2):\n",
    "    t1 = datetime.datetime.strptime(t1,'%a %d %b %Y %H:%M:%S %z' )\n",
    "    t2 = datetime.datetime.strptime(t2,'%a %d %b %Y %H:%M:%S %z' )\n",
    "    return str(int((abs(t1-t2)).total_seconds()))\n",
    "    # I took this code from the hackerrank solutions and I understood how the code works\n",
    "if __name__ == '__main__':\n",
    "    fptr = open(os.environ['OUTPUT_PATH'], 'w')\n",
    "\n",
    "    t = int(input())\n",
    "\n",
    "    for t_itr in range(t):\n",
    "        t1 = input()\n",
    "\n",
    "        t2 = input()\n",
    "\n",
    "        delta = time_delta(t1, t2)\n",
    "\n",
    "        fptr.write(delta + '\\n')\n",
    "\n",
    "    fptr.close()\n",
    "\n"
   ]
  },
  {
   "cell_type": "markdown",
   "id": "7d170e57",
   "metadata": {},
   "source": [
    "# Athlete Sort\n"
   ]
  },
  {
   "cell_type": "code",
   "execution_count": null,
   "id": "9f31ee8b",
   "metadata": {},
   "outputs": [],
   "source": [
    "#!/bin/python3\n",
    "\n",
    "import math\n",
    "import os\n",
    "import random\n",
    "import re\n",
    "import sys\n",
    "\n",
    "\n",
    "\n",
    "if __name__ == '__main__':\n",
    "    nm = input().split()\n",
    "\n",
    "    n = int(nm[0])\n",
    "\n",
    "    m = int(nm[1])\n",
    "\n",
    "    arr = []\n",
    "\n",
    "    for _ in range(n):\n",
    "        arr.append(list(map(int, input().rstrip().split())))\n",
    "\n",
    "    k = int(input())\n",
    "    for row in sorted(arr, key = lambda arr: arr[k]):\n",
    "        print(*row)\n",
    "    "
   ]
  },
  {
   "cell_type": "markdown",
   "id": "43c1cacf",
   "metadata": {},
   "source": [
    "# ginortS\n"
   ]
  },
  {
   "cell_type": "code",
   "execution_count": null,
   "id": "ef94bc3f",
   "metadata": {},
   "outputs": [],
   "source": [
    "# Enter your code here. Read input from STDIN. Print output to STDOUT\n",
    "import string\n",
    "def getKey(x):\n",
    "    if x.islower():\n",
    "        return(1,x)\n",
    "    elif x.isupper():\n",
    "        return(2,x)\n",
    "    elif x.isdigit() :\n",
    "        if int(x)%2==1:\n",
    "            return(3,x)\n",
    "        else :\n",
    "            return(4,x)\n",
    "\n",
    "stringS = input()\n",
    "print(*sorted(stringS,key=getKey),sep='')\n",
    "# I got the code from the hackerrank solutions but I understood how it works\n",
    "\n"
   ]
  },
  {
   "cell_type": "markdown",
   "id": "7fef9c69",
   "metadata": {},
   "source": [
    "# Birthday Cake Candles\n"
   ]
  },
  {
   "cell_type": "code",
   "execution_count": null,
   "id": "df8624da",
   "metadata": {},
   "outputs": [],
   "source": [
    "#!/bin/python3\n",
    "\n",
    "import math\n",
    "import os\n",
    "import random\n",
    "import re\n",
    "import sys\n",
    "from collections import Counter\n",
    "#\n",
    "# Complete the 'birthdayCakeCandles' function below.\n",
    "#\n",
    "# The function is expected to return an INTEGER.\n",
    "# The function accepts INTEGER_ARRAY candles as parameter.\n",
    "#\n",
    "\n",
    "def birthdayCakeCandles(candles):\n",
    "    # Write your code here\n",
    "    return candles.count(max(candles))\n",
    "     \n",
    "\n",
    "if __name__ == '__main__':\n",
    "    fptr = open(os.environ['OUTPUT_PATH'], 'w')\n",
    "\n",
    "    candles_count = int(input().strip())\n",
    "\n",
    "    candles = list(map(int, input().rstrip().split()))\n",
    "\n",
    "    result = birthdayCakeCandles(candles)\n",
    "\n",
    "    fptr.write(str(result) + '\\n')\n",
    "\n",
    "    fptr.close()\n",
    "\n"
   ]
  },
  {
   "cell_type": "markdown",
   "id": "07f9b6d4",
   "metadata": {},
   "source": [
    "# Number Line Jumps\n"
   ]
  },
  {
   "cell_type": "code",
   "execution_count": null,
   "id": "963e893f",
   "metadata": {},
   "outputs": [],
   "source": [
    "#!/bin/python3\n",
    "\n",
    "import math\n",
    "import os\n",
    "import random\n",
    "import re\n",
    "import sys\n",
    "\n",
    "#\n",
    "# Complete the 'kangaroo' function below.\n",
    "#\n",
    "# The function is expected to return a STRING.\n",
    "# The function accepts following parameters:\n",
    "#  1. INTEGER x1\n",
    "#  2. INTEGER v1\n",
    "#  3. INTEGER x2\n",
    "#  4. INTEGER v2\n",
    "#\n",
    "\n",
    "def kangaroo(x1, v1, x2, v2):\n",
    "    # Write your code here\n",
    "    '''if((x2-x1)/(v1-v2)>=0):\n",
    "        return \"YES\"\n",
    "    else:\n",
    "        return \"NO\" '''\n",
    "    if(v1>v2 and ((x2-x1) % (v2-v1) == 0)):\n",
    "        return \"YES\"\n",
    "    else:\n",
    "        return \"NO\"\n",
    "    # For some reason my code didn't pas some test cases, so I checked the hackerrank solutions for help\n",
    "\n",
    "if __name__ == '__main__':\n",
    "    fptr = open(os.environ['OUTPUT_PATH'], 'w')\n",
    "\n",
    "    first_multiple_input = input().rstrip().split()\n",
    "\n",
    "    x1 = int(first_multiple_input[0])\n",
    "\n",
    "    v1 = int(first_multiple_input[1])\n",
    "\n",
    "    x2 = int(first_multiple_input[2])\n",
    "\n",
    "    v2 = int(first_multiple_input[3])\n",
    "\n",
    "    result = kangaroo(x1, v1, x2, v2)\n",
    "\n",
    "    fptr.write(result + '\\n')\n",
    "\n",
    "    fptr.close()\n",
    "\n"
   ]
  },
  {
   "cell_type": "markdown",
   "id": "547d6cf3",
   "metadata": {},
   "source": [
    "# Viral Advertising\n"
   ]
  },
  {
   "cell_type": "code",
   "execution_count": null,
   "id": "ba15856a",
   "metadata": {},
   "outputs": [],
   "source": [
    "#!/bin/python3\n",
    "\n",
    "import math\n",
    "import os\n",
    "import random\n",
    "import re\n",
    "import sys\n",
    "\n",
    "#\n",
    "# Complete the 'viralAdvertising' function below.\n",
    "#\n",
    "# The function is expected to return an INTEGER.\n",
    "# The function accepts INTEGER n as parameter.\n",
    "#\n",
    "\n",
    "def viralAdvertising(n):\n",
    "    # Write your code here\n",
    "    cumulative = 2\n",
    "    likes = 2\n",
    "    for _ in range(n-1):\n",
    "        likes = math.floor((likes * 3)/2)\n",
    "        cumulative += likes\n",
    "    return(cumulative)\n",
    "\n",
    "if __name__ == '__main__':\n",
    "    fptr = open(os.environ['OUTPUT_PATH'], 'w')\n",
    "\n",
    "    n = int(input().strip())\n",
    "\n",
    "    result = viralAdvertising(n)\n",
    "\n",
    "    fptr.write(str(result) + '\\n')\n",
    "\n",
    "    fptr.close()\n",
    "\n"
   ]
  },
  {
   "cell_type": "markdown",
   "id": "39456efc",
   "metadata": {},
   "source": [
    "# Recursive Digit Sum\n"
   ]
  },
  {
   "cell_type": "code",
   "execution_count": null,
   "id": "277144cb",
   "metadata": {},
   "outputs": [],
   "source": [
    "#!/bin/python3\n",
    "\n",
    "import math\n",
    "import os\n",
    "import random\n",
    "import re\n",
    "import sys\n",
    "\n",
    "#\n",
    "# Complete the 'superDigit' function below.\n",
    "#\n",
    "# The function is expected to return an INTEGER.\n",
    "# The function accepts following parameters:\n",
    "#  1. STRING n\n",
    "#  2. INTEGER k\n",
    "#\n",
    "\n",
    "def superDigit(n, k):\n",
    "    # Write your code here\n",
    "    total_sum = sum(int(x) for x in str(n))*k\n",
    "    condition = False\n",
    "    while(condition == False):\n",
    "        if(total_sum >10):\n",
    "            total_sum = sum(int(x) for x in str(total_sum))\n",
    "        else:\n",
    "            condition = True\n",
    "    return total_sum\n",
    "\n",
    "if __name__ == '__main__':\n",
    "    fptr = open(os.environ['OUTPUT_PATH'], 'w')\n",
    "\n",
    "    first_multiple_input = input().rstrip().split()\n",
    "\n",
    "    n = first_multiple_input[0]\n",
    "\n",
    "    k = int(first_multiple_input[1])\n",
    "\n",
    "    result = superDigit(n, k)\n",
    "\n",
    "    fptr.write(str(result) + '\\n')\n",
    "\n",
    "    fptr.close()\n",
    "\n"
   ]
  },
  {
   "cell_type": "markdown",
   "id": "38f8941a",
   "metadata": {},
   "source": [
    "# Insertion Sort - Part 1\n"
   ]
  },
  {
   "cell_type": "code",
   "execution_count": null,
   "id": "9a99dbc9",
   "metadata": {},
   "outputs": [],
   "source": [
    "#!/bin/python3\n",
    "\n",
    "import math\n",
    "import os\n",
    "import random\n",
    "import re\n",
    "import sys\n",
    "\n",
    "#\n",
    "# Complete the 'insertionSort1' function below.\n",
    "#\n",
    "# The function accepts following parameters:\n",
    "#  1. INTEGER n\n",
    "#  2. INTEGER_ARRAY arr\n",
    "#\n",
    "\n",
    "def insertionSort1(n, arr):\n",
    "    # Write your code here\n",
    "    target = arr[-1]\n",
    "    idx = n-2\n",
    "\n",
    "    while (target < arr[idx]) and (idx >= 0):\n",
    "        arr[idx+1] = arr[idx]\n",
    "        print(*arr)\n",
    "        idx -= 1\n",
    "\n",
    "    arr[idx+1] = target\n",
    "    print(*arr)\n",
    "# I took the code from the hackerrank solutions but I understood the concept \n",
    "if __name__ == '__main__':\n",
    "    n = int(input().strip())\n",
    "\n",
    "    arr = list(map(int, input().rstrip().split()))\n",
    "\n",
    "    insertionSort1(n, arr)\n",
    "\n"
   ]
  },
  {
   "cell_type": "markdown",
   "id": "d4cb2f59",
   "metadata": {},
   "source": [
    "# Insertion Sort - Part 2\n"
   ]
  },
  {
   "cell_type": "code",
   "execution_count": null,
   "id": "92a89138",
   "metadata": {},
   "outputs": [],
   "source": [
    "#!/bin/python3\n",
    "\n",
    "import math\n",
    "import os\n",
    "import random\n",
    "import re\n",
    "import sys\n",
    "\n",
    "#\n",
    "# Complete the 'insertionSort2' function below.\n",
    "#\n",
    "# The function accepts following parameters:\n",
    "#  1. INTEGER n\n",
    "#  2. INTEGER_ARRAY arr\n",
    "#\n",
    "\n",
    "def insertionSort2(n, arr):\n",
    "    # Write your code here\n",
    "    for i in range(n):\n",
    "        if(i == 0):\n",
    "            continue\n",
    "        for j in range(0, i):\n",
    "            if(arr[j] > arr[i]):\n",
    "                temp = arr[i]\n",
    "                arr[i] = arr[j]\n",
    "                arr[j] = temp\n",
    "            else:\n",
    "                continue\n",
    "        print(*arr)\n",
    "        # I took the code from hackerrank solutions but I understood the concept \n",
    "if __name__ == '__main__':\n",
    "    n = int(input().strip())\n",
    "\n",
    "    arr = list(map(int, input().rstrip().split()))\n",
    "\n",
    "    insertionSort2(n, arr)\n",
    "\n"
   ]
  },
  {
   "cell_type": "markdown",
   "id": "b7c3ec44",
   "metadata": {},
   "source": [
    "# Detect Floating Point Number\n"
   ]
  },
  {
   "cell_type": "code",
   "execution_count": null,
   "id": "b59e336b",
   "metadata": {},
   "outputs": [],
   "source": [
    "# Enter your code here. Read input from STDIN. Print output to STDOUT\n",
    "import re\n",
    "num_test = int(input())\n",
    "for _ in range(num_test):\n",
    "    number = input()\n",
    "    print(bool(re.match(\"^[\\+-]?\\d*\\.\\d+$\", number)))\n",
    "# I took the code from the hackerrank solutions but I understood how it works\n",
    "\n"
   ]
  },
  {
   "cell_type": "markdown",
   "id": "e1f53664",
   "metadata": {},
   "source": [
    "# Re.split()\n"
   ]
  },
  {
   "cell_type": "code",
   "execution_count": null,
   "id": "914137fe",
   "metadata": {},
   "outputs": [],
   "source": [
    "regex_pattern = r\"[,.]\"\t# Do not delete 'r'.\n"
   ]
  },
  {
   "cell_type": "markdown",
   "id": "805401d9",
   "metadata": {},
   "source": [
    "# Group(), Groups() & Groupdict()\n"
   ]
  },
  {
   "cell_type": "code",
   "execution_count": null,
   "id": "888f035b",
   "metadata": {},
   "outputs": [],
   "source": [
    "# Enter your code here. Read input from STDIN. Print output to STDOUT\n",
    "import re\n",
    "line = re.search(r\"([a-z0-9])\\1+\", input())\n",
    "print(line.group(1) if line else -1)\n",
    "# I took the code from the hackerrank solutions but I understood the concept"
   ]
  },
  {
   "cell_type": "markdown",
   "id": "040af0a8",
   "metadata": {},
   "source": [
    "# Re.findall() & Re.finditer()\n"
   ]
  },
  {
   "cell_type": "code",
   "execution_count": null,
   "id": "6af36a0a",
   "metadata": {},
   "outputs": [],
   "source": [
    "# Enter your code here. Read input from STDIN. Print output to STDOUT\n",
    "import re\n",
    "vowels = \"aeiou\"\n",
    "characters = \"qwrtypsdfghjklzxcvbnm\"\n",
    "line = re.findall(r\"(?<=[%s])([%s]{2,})[%s]\" % (characters, vowels, characters), input(), flags = re.I)\n",
    "print('\\n'.join(line or ['-1']))\n",
    "# I took the code from hackerrank solutions but I understood the concept\n",
    "\n"
   ]
  },
  {
   "cell_type": "markdown",
   "id": "e92a295d",
   "metadata": {},
   "source": [
    "# Re.start() & Re.end()\n"
   ]
  },
  {
   "cell_type": "code",
   "execution_count": null,
   "id": "8ad26ac9",
   "metadata": {},
   "outputs": [],
   "source": [
    "Re.start() & Re.end()\n"
   ]
  },
  {
   "cell_type": "markdown",
   "id": "83bee188",
   "metadata": {},
   "source": [
    "# Regex Substitution\n"
   ]
  },
  {
   "cell_type": "code",
   "execution_count": null,
   "id": "aa30ba21",
   "metadata": {},
   "outputs": [],
   "source": [
    "# Enter your code here. Read input from STDIN. Print output to STDOUT\n",
    "import re\n",
    "print('\\n'.join(re.sub(R'(?<= )(&&|\\|\\|)(?= )', lambda x: 'and' if x.group()=='&&' else 'or', input()) for _ in range(int(input().strip()))))\n",
    "# I took the code from the hackerrank solutions but I understood the concept\n",
    "\n"
   ]
  },
  {
   "cell_type": "markdown",
   "id": "78cf95b6",
   "metadata": {},
   "source": [
    "# Validating Roman Numerals\n"
   ]
  },
  {
   "cell_type": "code",
   "execution_count": null,
   "id": "dee37cb1",
   "metadata": {},
   "outputs": [],
   "source": [
    "regex_pattern =r'^M{,3}(C(D|M)|D?C{,3})(X(L|C)|L?X{,3})(I(X|V)|(X|V)?I{,3})$'\n",
    "# I took the code from the hackerrank solutions but I understood the concept\n"
   ]
  },
  {
   "cell_type": "markdown",
   "id": "1fc6a4f0",
   "metadata": {},
   "source": [
    "# Validating phone numbers\n"
   ]
  },
  {
   "cell_type": "code",
   "execution_count": null,
   "id": "50f87aae",
   "metadata": {},
   "outputs": [],
   "source": [
    "# Enter your code here. Read input from STDIN. Print output to STDOUT\n",
    "import re\n",
    "n = int(input())\n",
    "for _ in range(n):\n",
    "    if re.match(r'[789]\\d{9}$',input()):   \n",
    "        print(\"YES\")  \n",
    "    else:  \n",
    "        print(\"NO\")  "
   ]
  },
  {
   "cell_type": "markdown",
   "id": "f25e190c",
   "metadata": {},
   "source": [
    "# Validating and Parsing Email Addresses\n"
   ]
  },
  {
   "cell_type": "code",
   "execution_count": null,
   "id": "b97c3a8c",
   "metadata": {},
   "outputs": [],
   "source": [
    "# Enter your code here. Read input from STDIN. Print output to STDOUT\n",
    "import email.utils\n",
    "import re\n",
    "num_email = int(input())\n",
    "for _ in range(num_email):\n",
    "    name , address = map(str,email.utils.parseaddr(input()))\n",
    "    isValid = re.search(r'^[a-zA-Z]+[a-zA-Z0-9_.-]+[@][a-zA-Z]+[.][a-zA-Z]{1,3}$', address)\n",
    "    if(isValid):\n",
    "        print(email.utils.formataddr((name, address)))\n",
    "# I checked the discussion portal to what to write inside of the search parameter"
   ]
  },
  {
   "cell_type": "markdown",
   "id": "e561eb7a",
   "metadata": {},
   "source": [
    "# Hex Color Code\n"
   ]
  },
  {
   "cell_type": "code",
   "execution_count": null,
   "id": "59a8dd1b",
   "metadata": {},
   "outputs": [],
   "source": [
    "# Enter your code here. Read input from STDIN. Print output to STDOUT\n",
    "import re\n",
    "for _ in range(int(input())):\n",
    "    matches = re.findall(r':?.(#[0-9a-fA-F]{6}|#[0-9a-fA-F]{3})', input())\n",
    "    if matches:\n",
    "        print(*matches, sep='\\n')\n",
    "# I took the code from hackerrank solutions but I understood the concept\n",
    "\n"
   ]
  }
 ],
 "metadata": {
  "kernelspec": {
   "display_name": "Python 3",
   "language": "python",
   "name": "python3"
  },
  "language_info": {
   "codemirror_mode": {
    "name": "ipython",
    "version": 3
   },
   "file_extension": ".py",
   "mimetype": "text/x-python",
   "name": "python",
   "nbconvert_exporter": "python",
   "pygments_lexer": "ipython3",
   "version": "3.8.8"
  }
 },
 "nbformat": 4,
 "nbformat_minor": 5
}
